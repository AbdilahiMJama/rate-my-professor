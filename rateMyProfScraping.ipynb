{
  "cells": [
    {
      "cell_type": "code",
      "execution_count": 1,
      "metadata": {
        "id": "bKFQApXLEXwi"
      },
      "outputs": [],
      "source": [
        "import requests\n",
        "from bs4 import BeautifulSoup\n",
        "import json"
      ]
    },
    {
      "cell_type": "code",
      "execution_count": 14,
      "metadata": {
        "id": "gGCpN72HEoYE"
      },
      "outputs": [],
      "source": [
        "def getReviewData(url):\n",
        "  # Send a GET request to the URL\n",
        "  response = requests.get(url)\n",
        "\n",
        "  # Parse the HTML content\n",
        "  soup = BeautifulSoup(response.content, 'html.parser')\n",
        "\n",
        "  # Find name\n",
        "  profName = soup.find('div', class_=\"NameTitle__Name-dowf0z-0 cfjPUG\")\n",
        "\n",
        "  # Find star rating\n",
        "  starRating = soup.find('div', class_=\"RatingValue__Numerator-qw8sqy-2 liyUjw\")\n",
        "\n",
        "  # Find reviews\n",
        "  ratingBody = soup.find_all('div', class_=\"Rating__RatingInfo-sc-1rhvpxz-3 kEVEoU\")\n",
        "\n",
        "  # List of reviews\n",
        "  jsonList = []\n",
        "  \n",
        "  for rating in ratingBody:\n",
        "    ratingBodySubject = rating.find( 'div',class_='RatingHeader__StyledClass-sc-1dlkqw1-3 eXfReS')\n",
        "    ratingBodyReview = rating.find( 'div',class_=\"Comments__StyledComments-dzzyvm-0 gRjWel\")\n",
        "\n",
        "    format = {\n",
        "          'professor': profName.text,\n",
        "          'stars':starRating.text,\n",
        "          'subject':ratingBodySubject.text,\n",
        "          'review':ratingBodyReview.text,\n",
        "        }\n",
        "    jsonList.append(format)\n",
        "\n",
        "  formatFinal = {\n",
        "      'reviews': jsonList\n",
        "    }\n",
        "  return formatFinal"
      ]
    },
    {
      "cell_type": "code",
      "execution_count": 15,
      "metadata": {
        "colab": {
          "base_uri": "https://localhost:8080/"
        },
        "id": "R5Kz8sNOE4-M",
        "outputId": "b60cd219-e2a7-4a6e-9441-864db0ce05c3"
      },
      "outputs": [
        {
          "name": "stdout",
          "output_type": "stream",
          "text": [
            "{'reviews': [{'professor': 'Bala Venkatesh ', 'stars': '3.8', 'subject': ' ELE302', 'review': 'Super knowledgeable and funny; also terrible at teaching. Spends hours on material that you will never be tested on, yet glazes over tested questions.  Someone asked if a certain type of Op-Amp question could be on the midterm; he said yes. When I asked the coordinator he said  \"we would never ask that kind of question\". Don\\'t trust him.'}, {'professor': 'Bala Venkatesh ', 'stars': '3.8', 'subject': ' ELE302', 'review': \"Bala's not bad. He knows his stuff very well and will explain it again if needed. He's a funny guy who likes to crack jokes during the lecture and is caring about your success. He makes the final exam and that was very hard. The average has apparently been a fail in previous years. He does harder examples in his lecture which prepare you.\"}, {'professor': 'Bala Venkatesh ', 'stars': '3.8', 'subject': ' ELE302', 'review': \"He has good notes. He doesn't let students to ask questions while unmute the microphone. He says to type in the text box which is hard to do. He teach you extra content, no use of losing energy which isn't covered for exams. Notes are better than lectures.\"}, {'professor': 'Bala Venkatesh ', 'stars': '3.8', 'subject': ' EE8403', 'review': \"He is very good prof. with lots of knowledge. He explain thing very well even you don't understand it first time. This is course is tough and you have to study hard. overall, it is very good Couse for knowledge about power system and market with best efforts from prof.\"}, {'professor': 'Bala Venkatesh ', 'stars': '3.8', 'subject': ' ELE302', 'review': 'This professor spends too much time on unnecessary theory and gives almost no real examples. The material covered on his lectures are a joke compared to the assessments. I think it be more effective to skip his class and just use the textbook.'}, {'professor': 'Bala Venkatesh ', 'stars': '3.8', 'subject': ' ELE302', 'review': \"Bala's a weird prof. I find his classes to be long and boring but his notes are actually REALLY good. Review his notes and practice, PRACTICE, PRACTICE!\"}, {'professor': 'Bala Venkatesh ', 'stars': '3.8', 'subject': ' ELE302', 'review': \"His notes are great for exam review. The exams aren't that hard if you practice enough. But sometimes in lectures he goes slowly, I've seen him spending an hour on one problem.\"}, {'professor': 'Bala Venkatesh ', 'stars': '3.8', 'subject': ' ELE302', 'review': 'Pros - He goes through analogies to explain the math and is good at answering questions presented to him. Cons - He stays on one topic for too long. Does not use difficult questions. Does not write clear consistent notes and students correct him a lot. His notes are unorganized :/ PS. You need to also study independently if you want to get an A.'}, {'professor': 'Bala Venkatesh ', 'stars': '3.8', 'subject': ' ELE302', 'review': 'Overall a very decent prof. Hes not mono-tone and he can actually hold your interest for the majority of the lecture. He also is very approachable and humorous'}, {'professor': 'Bala Venkatesh ', 'stars': '3.8', 'subject': ' ELE302', 'review': 'Prof. Venkatesh is a very good teacher. Very clear in his lectures.'}, {'professor': 'Bala Venkatesh ', 'stars': '3.8', 'subject': ' ELE302', 'review': 'Wicked prof'}, {'professor': 'Bala Venkatesh ', 'stars': '3.8', 'subject': ' ELE302', 'review': 'He is good ! he post the notes before the class!  but the course is too tough! and many materials  He spend long time to solve one question!  '}, {'professor': 'Bala Venkatesh ', 'stars': '3.8', 'subject': ' ELE302', 'review': \"Explains everything slowly and clearly, show up to class and you won't ever have to read the textbook because you will already know everything. Some of his techniques are better than the ones taught in the textbook. Answers all questions with detail. Really good prof and got me to like Electrical Engineering which I was unsure about before. \"}, {'professor': 'Bala Venkatesh ', 'stars': '3.8', 'subject': ' 11', 'review': 'Very clear professor.'}, {'professor': 'Bala Venkatesh ', 'stars': '3.8', 'subject': ' XXX101', 'review': 'Excellent professor'}, {'professor': 'Bala Venkatesh ', 'stars': '3.8', 'subject': ' ELE302', 'review': \"He seriously needs to think about retirement. He writes all over the board. Doesn't do any reviews. And spend too much time on one question. Avoid his class if u wanna pass.\"}, {'professor': 'Bala Venkatesh ', 'stars': '3.8', 'subject': ' ELE302', 'review': 'respectful, knowledgable'}, {'professor': 'Bala Venkatesh ', 'stars': '3.8', 'subject': ' ELE302', 'review': \"This professor explains everything in such detail that Picasso would envy. He even explains stuff from past years that students forgot/didn't understand. He is one of absolute best profs. If you really want to learn electrical engineering, and not just pretend to do so, then Bala Venkatesh is your professor.\"}, {'professor': 'Bala Venkatesh ', 'stars': '3.8', 'subject': ' ELE302', 'review': 'Must create some enthusiasm in the classroom .'}, {'professor': 'Bala Venkatesh ', 'stars': '3.8', 'subject': ' ELE302', 'review': 'this guy cant teach, he is boring and does not explain well'}]}\n"
          ]
        }
      ],
      "source": [
        "# URL of the website you want to scrape\n",
        "url = \"https://www.ratemyprofessors.com/professor/1259085\"\n",
        "reviewData = getReviewData(url)\n",
        "print(f'{reviewData}')"
      ]
    },
    {
      "cell_type": "code",
      "execution_count": 16,
      "metadata": {},
      "outputs": [],
      "source": [
        "\n",
        "# Writing to reviewData.json\n",
        "with open('reviewData.json', 'w') as json_file:\n",
        "    json.dump(reviewData, json_file, indent=4)\n"
      ]
    }
  ],
  "metadata": {
    "colab": {
      "provenance": []
    },
    "kernelspec": {
      "display_name": "Python 3",
      "name": "python3"
    },
    "language_info": {
      "codemirror_mode": {
        "name": "ipython",
        "version": 3
      },
      "file_extension": ".py",
      "mimetype": "text/x-python",
      "name": "python",
      "nbconvert_exporter": "python",
      "pygments_lexer": "ipython3",
      "version": "3.12.3"
    }
  },
  "nbformat": 4,
  "nbformat_minor": 0
}

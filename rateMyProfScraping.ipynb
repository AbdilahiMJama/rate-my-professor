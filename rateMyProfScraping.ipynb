{
  "cells": [
    {
      "cell_type": "code",
      "execution_count": 27,
      "metadata": {
        "id": "bKFQApXLEXwi"
      },
      "outputs": [],
      "source": [
        "import requests\n",
        "from bs4 import BeautifulSoup\n",
        "import json"
      ]
    },
    {
      "cell_type": "code",
      "execution_count": 28,
      "metadata": {
        "id": "gGCpN72HEoYE"
      },
      "outputs": [],
      "source": [
        "def getReviewData(url):\n",
        "  # Send a GET request to the URL\n",
        "  response = requests.get(url)\n",
        "\n",
        "  # Parse the HTML content\n",
        "  soup = BeautifulSoup(response.content, 'html.parser')\n",
        "\n",
        "  # Find name\n",
        "  profName = soup.find('div', class_=\"NameTitle__Name-dowf0z-0 cfjPUG\")\n",
        "\n",
        "  # Find star rating\n",
        "  starRating = soup.find('div', class_=\"RatingValue__Numerator-qw8sqy-2 liyUjw\")\n",
        "\n",
        "  # Find reviews\n",
        "  ratingBody = soup.find('div', class_=\"Rating__RatingInfo-sc-1rhvpxz-3 kEVEoU\")\n",
        "\n",
        "  # List of reviews\n",
        "  jsonList = []\n",
        "\n",
        "  for rating in ratingBody:\n",
        "    ratingBodySubject = soup.find( 'div',class_='RatingHeader__StyledClass-sc-1dlkqw1-3 eXfReS')\n",
        "    ratingBodyReview = soup.find( 'div',class_=\"Comments__StyledComments-dzzyvm-0 gRjWel\")\n",
        "\n",
        "    format = {\n",
        "          'professor': profName.text,\n",
        "          'stars':starRating.text,\n",
        "          'subject':ratingBodySubject.text,\n",
        "          'review':ratingBodyReview.text,\n",
        "        }\n",
        "    jsonList.append(format)\n",
        "\n",
        "  formatFinal = {\n",
        "      'reviews': jsonList\n",
        "    }\n",
        "  return formatFinal"
      ]
    },
    {
      "cell_type": "code",
      "execution_count": 29,
      "metadata": {
        "colab": {
          "base_uri": "https://localhost:8080/"
        },
        "id": "R5Kz8sNOE4-M",
        "outputId": "b60cd219-e2a7-4a6e-9441-864db0ce05c3"
      },
      "outputs": [
        {
          "name": "stdout",
          "output_type": "stream",
          "text": [
            "{'reviews': [{'professor': 'Bala Venkatesh ', 'star': '3.8', 'subject': ' ELE302', 'review': 'Super knowledgeable and funny; also terrible at teaching. Spends hours on material that you will never be tested on, yet glazes over tested questions.  Someone asked if a certain type of Op-Amp question could be on the midterm; he said yes. When I asked the coordinator he said  \"we would never ask that kind of question\". Don\\'t trust him.'}, {'professor': 'Bala Venkatesh ', 'star': '3.8', 'subject': ' ELE302', 'review': 'Super knowledgeable and funny; also terrible at teaching. Spends hours on material that you will never be tested on, yet glazes over tested questions.  Someone asked if a certain type of Op-Amp question could be on the midterm; he said yes. When I asked the coordinator he said  \"we would never ask that kind of question\". Don\\'t trust him.'}, {'professor': 'Bala Venkatesh ', 'star': '3.8', 'subject': ' ELE302', 'review': 'Super knowledgeable and funny; also terrible at teaching. Spends hours on material that you will never be tested on, yet glazes over tested questions.  Someone asked if a certain type of Op-Amp question could be on the midterm; he said yes. When I asked the coordinator he said  \"we would never ask that kind of question\". Don\\'t trust him.'}, {'professor': 'Bala Venkatesh ', 'star': '3.8', 'subject': ' ELE302', 'review': 'Super knowledgeable and funny; also terrible at teaching. Spends hours on material that you will never be tested on, yet glazes over tested questions.  Someone asked if a certain type of Op-Amp question could be on the midterm; he said yes. When I asked the coordinator he said  \"we would never ask that kind of question\". Don\\'t trust him.'}]}\n"
          ]
        }
      ],
      "source": [
        "# URL of the website you want to scrape\n",
        "url = \"https://www.ratemyprofessors.com/professor/1259085\"\n",
        "reviewData = getReviewData(url)\n",
        "print(reviewData)"
      ]
    },
    {
      "cell_type": "code",
      "execution_count": 30,
      "metadata": {},
      "outputs": [],
      "source": [
        "\n",
        "# Writing to reviewData.json\n",
        "with open('reviewData.json', 'w') as json_file:\n",
        "    json.dump(reviewData, json_file, indent=4)\n"
      ]
    }
  ],
  "metadata": {
    "colab": {
      "provenance": []
    },
    "kernelspec": {
      "display_name": "Python 3",
      "name": "python3"
    },
    "language_info": {
      "codemirror_mode": {
        "name": "ipython",
        "version": 3
      },
      "file_extension": ".py",
      "mimetype": "text/x-python",
      "name": "python",
      "nbconvert_exporter": "python",
      "pygments_lexer": "ipython3",
      "version": "3.12.3"
    }
  },
  "nbformat": 4,
  "nbformat_minor": 0
}
